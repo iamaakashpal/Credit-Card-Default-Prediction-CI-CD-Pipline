{
 "cells": [
  {
   "cell_type": "code",
   "execution_count": 11,
   "metadata": {},
   "outputs": [],
   "source": [
    "import os"
   ]
  },
  {
   "cell_type": "code",
   "execution_count": 12,
   "metadata": {},
   "outputs": [
    {
     "data": {
      "text/plain": [
       "'D:\\\\INEURON\\\\ML CI CD\\\\Credit-Card-Default-Prediction-CI-CD-Pipline\\\\creditcarddefault'"
      ]
     },
     "execution_count": 12,
     "metadata": {},
     "output_type": "execute_result"
    }
   ],
   "source": [
    "os.getcwd()"
   ]
  },
  {
   "cell_type": "code",
   "execution_count": 13,
   "metadata": {},
   "outputs": [],
   "source": [
    "os.chdir('D:\\INEURON\\ML CI CD\\Credit-Card-Default-Prediction-CI-CD-Pipline\\creditcarddefault')"
   ]
  },
  {
   "cell_type": "code",
   "execution_count": 14,
   "metadata": {},
   "outputs": [
    {
     "data": {
      "text/plain": [
       "'D:\\\\INEURON\\\\ML CI CD\\\\Credit-Card-Default-Prediction-CI-CD-Pipline\\\\creditcarddefault'"
      ]
     },
     "execution_count": 14,
     "metadata": {},
     "output_type": "execute_result"
    }
   ],
   "source": [
    "os.getcwd()"
   ]
  },
  {
   "cell_type": "code",
   "execution_count": 15,
   "metadata": {},
   "outputs": [],
   "source": [
    "from creditcarddefault.entity.config_entity import DataIngestionConfig,DataValidationConfig,DataTransformationConfig,\\\n",
    "ModelTrainerConfig,ModelEvaluationConfig,ModelPusherConfig,TrainingPipelineConfig\n",
    "import os,sys\n",
    "from creditcarddefault.logger import logging\n",
    "from creditcarddefault.exception import CreditException\n",
    "from creditcarddefault.util.util import read_yaml_file\n",
    "from creditcarddefault.constant import *"
   ]
  },
  {
   "cell_type": "code",
   "execution_count": 16,
   "metadata": {},
   "outputs": [],
   "source": [
    "def __init__(self,config_file_path:str = CONFIG_FILE_PATH,current_time_stamp:str = CURRENT_TIME_STAMP) -> None:\n",
    "    self.config_info = read_yaml_file(file_path = config_file_path)\n",
    "    self.training_pipeline_config = self.get_training_pipeline_config()\n",
    "    self.time_stamp = current_time_stamp"
   ]
  },
  {
   "cell_type": "code",
   "execution_count": 17,
   "metadata": {},
   "outputs": [
    {
     "name": "stdout",
     "output_type": "stream",
     "text": [
      "D:\\INEURON\\ML CI CD\\Credit-Card-Default-Prediction-CI-CD-Pipline\\config\\config.yaml\n"
     ]
    }
   ],
   "source": [
    "config_file_path = \"D:\\INEURON\\ML CI CD\\Credit-Card-Default-Prediction-CI-CD-Pipline\\config\\config.yaml\"\n",
    "print(config_file_path)"
   ]
  },
  {
   "cell_type": "code",
   "execution_count": 18,
   "metadata": {},
   "outputs": [
    {
     "name": "stdout",
     "output_type": "stream",
     "text": [
      "{'training_pipeline_config': {'pipeline_name': 'creditcarddefault', 'artifact_dir': 'artifact'}, 'data_ingestion_config': {'dataset_download_url': 'https://github.com/iamaakashpal/Credit-Card-Default-Prediction-CI-CD-Pipline/raw/main/data/creditcarddefault.zip', 'raw_data_dir': 'raw_data', 'tgz_download_dir': 'tgz_data', 'ingested_dir': 'ingested_data', 'ingested_train_dir': 'train', 'ingested_test_dir': 'test'}, 'data_validation_config': {'schema_dir': 'config', 'schema_file_name': 'schema.yaml', 'report_file_name': 'report.json', 'report_page_file_name': 'report.html'}, 'data_transformation_config': {'transformed_dir': 'transformed_data', 'transformed_train_dir': 'train', 'transformed_test_dir': 'test', 'preprocessing_dir': 'preprocessed', 'preprocessed_object_file_name': 'preprocessed.pkl'}, 'model_trainer_config': {'trained_model_dir': 'trained_model', 'model_file_name': 'model.pkl', 'base_accuracy': 0.6, 'model_config_dir': 'config', 'model_config_file_name': 'model.yaml'}, 'model_evaluation_config': {'model_evaluation_file_name': 'model_evaluation.yaml'}, 'model_pusher_config': {'model_export_dir': 'saved_models'}}\n"
     ]
    }
   ],
   "source": [
    "config_info = read_yaml_file(file_path = config_file_path)\n",
    "print(config_info)"
   ]
  },
  {
   "cell_type": "code",
   "execution_count": 19,
   "metadata": {},
   "outputs": [],
   "source": [
    "def get_training_pipeline_config(self) -> TrainingPipelineConfig:\n",
    "    try:\n",
    "        training_pipeline_config = self.config_info[TRAINING_PIPELINE_CONFIG_KEY] # training_pipeline_config: pipeline_name: creditcarddefault artifact_dir: artifact\n",
    "        artifact_dir = os.path.join(ROOT_DIR,\n",
    "        training_pipeline_config[TRAINING_PIPELINE_NAME_KEY],\n",
    "        training_pipeline_config[TRAINING_PIPELINE_ARTIFACT_DIR_KEY])\n",
    "\n",
    "        training_pipeline_config = TrainingPipelineConfig(artifact_dir = artifact_dir)\n",
    "        logging.info(f\"Training Pipeline config:{training_pipeline_config}\")\n",
    "        return training_pipeline_config\n",
    "\n",
    "\n",
    "    except Exception as e:\n",
    "        raise CreditException(e,sys) from e"
   ]
  },
  {
   "cell_type": "code",
   "execution_count": 20,
   "metadata": {},
   "outputs": [
    {
     "name": "stdout",
     "output_type": "stream",
     "text": [
      "{'pipeline_name': 'creditcarddefault', 'artifact_dir': 'artifact'}\n"
     ]
    }
   ],
   "source": [
    "training_pipeline_config = config_info[TRAINING_PIPELINE_CONFIG_KEY]\n",
    "print(training_pipeline_config)"
   ]
  },
  {
   "cell_type": "code",
   "execution_count": 24,
   "metadata": {},
   "outputs": [
    {
     "data": {
      "text/plain": [
       "'D:\\\\INEURON\\\\ML CI CD\\\\Credit-Card-Default-Prediction-CI-CD-Pipline\\\\creditcarddefault'"
      ]
     },
     "execution_count": 24,
     "metadata": {},
     "output_type": "execute_result"
    }
   ],
   "source": [
    "os.getcwd()"
   ]
  },
  {
   "cell_type": "code",
   "execution_count": 21,
   "metadata": {},
   "outputs": [
    {
     "data": {
      "text/plain": [
       "'creditcarddefault'"
      ]
     },
     "execution_count": 21,
     "metadata": {},
     "output_type": "execute_result"
    }
   ],
   "source": [
    "training_pipeline_config[TRAINING_PIPELINE_NAME_KEY]"
   ]
  },
  {
   "cell_type": "code",
   "execution_count": 22,
   "metadata": {},
   "outputs": [
    {
     "data": {
      "text/plain": [
       "'artifact'"
      ]
     },
     "execution_count": 22,
     "metadata": {},
     "output_type": "execute_result"
    }
   ],
   "source": [
    "training_pipeline_config[TRAINING_PIPELINE_ARTIFACT_DIR_KEY]"
   ]
  },
  {
   "cell_type": "code",
   "execution_count": 25,
   "metadata": {},
   "outputs": [],
   "source": [
    "artifact_dir = os.path.join(ROOT_DIR,\n",
    "        training_pipeline_config[TRAINING_PIPELINE_NAME_KEY],\n",
    "        training_pipeline_config[TRAINING_PIPELINE_ARTIFACT_DIR_KEY])\n"
   ]
  },
  {
   "cell_type": "code",
   "execution_count": 26,
   "metadata": {},
   "outputs": [
    {
     "data": {
      "text/plain": [
       "'D:\\\\INEURON\\\\ML CI CD\\\\Credit-Card-Default-Prediction-CI-CD-Pipline\\\\creditcarddefault\\\\creditcarddefault\\\\artifact'"
      ]
     },
     "execution_count": 26,
     "metadata": {},
     "output_type": "execute_result"
    }
   ],
   "source": [
    "artifact_dir"
   ]
  },
  {
   "cell_type": "code",
   "execution_count": 28,
   "metadata": {},
   "outputs": [
    {
     "name": "stdout",
     "output_type": "stream",
     "text": [
      "TrainingPipelineConfig(artifact_dir='D:\\\\INEURON\\\\ML CI CD\\\\Credit-Card-Default-Prediction-CI-CD-Pipline\\\\creditcarddefault\\\\creditcarddefault\\\\artifact')\n"
     ]
    }
   ],
   "source": [
    "training_pipeline_config = TrainingPipelineConfig(artifact_dir = artifact_dir)\n",
    "print(training_pipeline_config)"
   ]
  },
  {
   "cell_type": "code",
   "execution_count": 30,
   "metadata": {},
   "outputs": [
    {
     "name": "stdout",
     "output_type": "stream",
     "text": [
      "Training Pipeline config:TrainingPipelineConfig(artifact_dir='D:\\\\INEURON\\\\ML CI CD\\\\Credit-Card-Default-Prediction-CI-CD-Pipline\\\\creditcarddefault\\\\creditcarddefault\\\\artifact')\n"
     ]
    }
   ],
   "source": [
    "print(f\"Training Pipeline config:{training_pipeline_config}\")"
   ]
  },
  {
   "cell_type": "code",
   "execution_count": 31,
   "metadata": {},
   "outputs": [
    {
     "data": {
      "text/plain": [
       "TrainingPipelineConfig(artifact_dir='D:\\\\INEURON\\\\ML CI CD\\\\Credit-Card-Default-Prediction-CI-CD-Pipline\\\\creditcarddefault\\\\creditcarddefault\\\\artifact')"
      ]
     },
     "execution_count": 31,
     "metadata": {},
     "output_type": "execute_result"
    }
   ],
   "source": [
    "training_pipeline_config"
   ]
  }
 ],
 "metadata": {
  "kernelspec": {
   "display_name": "Python 3.7.0 (conda)",
   "language": "python",
   "name": "python3"
  },
  "language_info": {
   "codemirror_mode": {
    "name": "ipython",
    "version": 3
   },
   "file_extension": ".py",
   "mimetype": "text/x-python",
   "name": "python",
   "nbconvert_exporter": "python",
   "pygments_lexer": "ipython3",
   "version": "3.7.0"
  },
  "orig_nbformat": 4,
  "vscode": {
   "interpreter": {
    "hash": "64531cd1554be255f988f8be9d92c07982570468c933d5f11e1146e44e9f5d98"
   }
  }
 },
 "nbformat": 4,
 "nbformat_minor": 2
}
