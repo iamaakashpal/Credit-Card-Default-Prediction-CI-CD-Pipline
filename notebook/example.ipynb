{
 "cells": [
  {
   "cell_type": "code",
   "execution_count": null,
   "metadata": {},
   "outputs": [],
   "source": []
  }
 ],
 "metadata": {
  "kernelspec": {
   "display_name": "Python 3.7.0 (conda)",
   "language": "python",
   "name": "python3"
  },
  "language_info": {
   "name": "python",
   "version": "3.7.0"
  },
  "orig_nbformat": 4,
  "vscode": {
   "interpreter": {
    "hash": "64531cd1554be255f988f8be9d92c07982570468c933d5f11e1146e44e9f5d98"
   }
  }
 },
 "nbformat": 4,
 "nbformat_minor": 2
}
